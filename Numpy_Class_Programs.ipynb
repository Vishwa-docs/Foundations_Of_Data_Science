{
 "cells": [
  {
   "cell_type": "markdown",
   "id": "8ee08507",
   "metadata": {},
   "source": [
    "### Theory\n",
    "\n",
    "Numpy (Numerical Python) is a scientific computing library. It uses arrays to perform calculations and plot graphs. The NumPy is maintained by a different community. They maintain different versions. Each version comes with better optimization or new features"
   ]
  },
  {
   "cell_type": "markdown",
   "id": "7b39a108",
   "metadata": {},
   "source": [
    "### Further Reading : \n",
    "[Book](https://jakevdp.github.io/PythonDataScienceHandbook/)\n",
    "\n",
    "[Stanford Course](https://cs231n.github.io/python-numpy-tutorial/)\n",
    "\n",
    "[Exercises](https://github.com/rougier/numpy-100)"
   ]
  },
  {
   "cell_type": "markdown",
   "id": "1ffe9b20",
   "metadata": {},
   "source": [
    "### Importing the Modules"
   ]
  },
  {
   "cell_type": "code",
   "execution_count": 2,
   "id": "d1c0cfae",
   "metadata": {},
   "outputs": [],
   "source": [
    "import numpy as np\n",
    "import matplotlib.pyplot as plt"
   ]
  },
  {
   "cell_type": "markdown",
   "id": "2ddb9084",
   "metadata": {},
   "source": [
    "### Basics"
   ]
  },
  {
   "cell_type": "code",
   "execution_count": 5,
   "id": "0eb3f9ba",
   "metadata": {},
   "outputs": [
    {
     "name": "stdout",
     "output_type": "stream",
     "text": [
      "1.20.3\n",
      "blas_mkl_info:\n",
      "    libraries = ['mkl_rt', 'pthread']\n",
      "    library_dirs = ['/Users/daver/Anaconda_Files/anaconda3/lib']\n",
      "    define_macros = [('SCIPY_MKL_H', None), ('HAVE_CBLAS', None)]\n",
      "    include_dirs = ['/Users/daver/Anaconda_Files/anaconda3/include']\n",
      "blas_opt_info:\n",
      "    libraries = ['mkl_rt', 'pthread']\n",
      "    library_dirs = ['/Users/daver/Anaconda_Files/anaconda3/lib']\n",
      "    define_macros = [('SCIPY_MKL_H', None), ('HAVE_CBLAS', None)]\n",
      "    include_dirs = ['/Users/daver/Anaconda_Files/anaconda3/include']\n",
      "lapack_mkl_info:\n",
      "    libraries = ['mkl_rt', 'pthread']\n",
      "    library_dirs = ['/Users/daver/Anaconda_Files/anaconda3/lib']\n",
      "    define_macros = [('SCIPY_MKL_H', None), ('HAVE_CBLAS', None)]\n",
      "    include_dirs = ['/Users/daver/Anaconda_Files/anaconda3/include']\n",
      "lapack_opt_info:\n",
      "    libraries = ['mkl_rt', 'pthread']\n",
      "    library_dirs = ['/Users/daver/Anaconda_Files/anaconda3/lib']\n",
      "    define_macros = [('SCIPY_MKL_H', None), ('HAVE_CBLAS', None)]\n",
      "    include_dirs = ['/Users/daver/Anaconda_Files/anaconda3/include']\n",
      "None\n"
     ]
    }
   ],
   "source": [
    "print(np.__version__) # Prints the current version of numpy being used\n",
    "print(np.show_config()) # Prints other packages the current version of numpy depends upon\n",
    "# Many of these libraries are written in c (Eg : openblas)"
   ]
  },
  {
   "cell_type": "markdown",
   "id": "36be2384",
   "metadata": {},
   "source": [
    "### Creating a NumPy array\n",
    "##### <i>We mostly use numerical arrays only</i>\n",
    "NumPy arrays are not strictly homogenous (Objects), but they are ususally used only homogenously"
   ]
  },
  {
   "cell_type": "code",
   "execution_count": 16,
   "id": "18603b5b",
   "metadata": {},
   "outputs": [
    {
     "name": "stdout",
     "output_type": "stream",
     "text": [
      "<class 'numpy.ndarray'>\n",
      "(3,)\n",
      "1 2 3\n",
      "(2, 3)\n",
      "1 2\n",
      "[[1 2 3]\n",
      " [4 5 6]]\n",
      "int64\n"
     ]
    }
   ],
   "source": [
    "# Converting List to an array :\n",
    "a = np.array([1, 2, 3])\n",
    "print(type(a)) # <class 'numpy.ndarray'>\n",
    "print(a.shape) # (3,) as it is 1D with 3 elements and tuples are ended with ,\n",
    "\n",
    "print(a[0], a[1], a[2]) # Accessing similar to list\n",
    "a[0] = 5 # Replaces like list\n",
    "\n",
    "\n",
    "# Nested list or Rank 2 array or 2D array\n",
    "b = np.array([[1, 2, 3], [4, 5, 6]])\n",
    "print(b.shape) #(2, 3) or 2 rows and 3 cols [Row is refered to as first dimension and column the second]\n",
    "# First element becomes first row and second element becomes second row\n",
    "print(b[0, 0], b[0][1])\n",
    "\n",
    "\n",
    "# 3D and 4D arrays are used in Deep Learning\n",
    "\n",
    "\n",
    "# If you provide the first as 3 element and the second as 2 element, then numpy return VisibleDeprecationWarning\n",
    "l = [[1, 2, 3], [4, 5, 6]]\n",
    "ary2d = np.array(l)\n",
    "print(ary2d)\n",
    "'''\n",
    "[[1 2 3]\n",
    " [4 5 6]]\n",
    "'''\n",
    "\n",
    "print(ary2d.dtype) # int64\n",
    "\n",
    "float_32_array = ary2d.astype(np.float32) # Converts to float with 32 memory bits. This is NOT DONE IN PLACE\n",
    "# OR\n",
    "ary2d = ary2d.astype(np.float32) # Converts then stores it in the same variable without creating copy\n"
   ]
  },
  {
   "cell_type": "markdown",
   "id": "bf8df5e1",
   "metadata": {},
   "source": [
    "### Generating Numbers"
   ]
  },
  {
   "cell_type": "code",
   "execution_count": 31,
   "id": "38376d2c",
   "metadata": {},
   "outputs": [
    {
     "name": "stdout",
     "output_type": "stream",
     "text": [
      "[10 11 12 13 14 15 16 17 18 19]\n",
      "[40 41 42 43 44 45 46 47 48 49]\n",
      "[49 48 47 46 45 44 43 42 41 40 39 38 37 36 35 34 33 32 31 30 29 28 27 26\n",
      " 25 24 23 22 21 20 19 18 17 16 15 14 13 12 11 10]\n",
      "3\n",
      "(3, 4, 5)\n",
      "60\n",
      "int64\n",
      "8\n",
      "480\n",
      "480\n"
     ]
    }
   ],
   "source": [
    "# Create sequencial values from 10 to 49\n",
    "z = np.arange(10, 50)\n",
    "\n",
    "# Print first and last 10 elements : \n",
    "print(z[:10]) # All slicing operations valid\n",
    "print(z[-10:]) \n",
    "\n",
    "\n",
    "# Print in Reverse:\n",
    "print(z[::-1])\n",
    "\n",
    "\n",
    "a = np.zeros((2, 2)) # 2x2 Matrix with all entries initialized to 0. Default type is float\n",
    "b = np.ones((1, 2)) # One row and two columns with ones as values\n",
    "\n",
    "c = np.full((2, 3), 7) # 2x3 array with all elements as 7\n",
    "\n",
    "d = np.eye(4) # Creates a 4x4 Identity matrix (Always square)\n",
    "# d = np.identity(4)\n",
    "\n",
    "\n",
    "# GENERATING RANDOM VALUES\n",
    "'''\n",
    "It is not possible to make true randomness in computers. We use Recursive Modulo Arithmetic Operation (Psuedo Random Number Theory)\n",
    "We can specify a starting point and it sequencially generates random numbers from there\n",
    "\n",
    "Seed the random function with an integer for repeatability\n",
    "If we seed, we get the same set of random numbers for the matrix\n",
    "'''\n",
    "\n",
    "np.random.seed(42) # Can be any int, 42 is standard\n",
    "x1 = np.random.randint(10, size = 6) # 1D Array with 6 members and upper bound of 9\n",
    "x2 = np.random.randint(10, size = (3, 4)) # 2D array\n",
    "'''\n",
    "To find the Documentation : \n",
    "np.random.randint?? only works for jupyter or google collab\n",
    "help(np.random.randint)\n",
    "\n",
    "==>\n",
    "randint(low, high=None, size=None, dtype=int)\n",
    "'''\n",
    "\n",
    "x3 = np.random.randint(10, size = (3, 4, 5)) # 3D Array (understand that there 3 4x5 dimensionals arrays)\n",
    "\n",
    "'''\n",
    "Generic Names \n",
    "1D : Row or Column Vector\n",
    "2D and 3D : Arrays\n",
    "4D and Above : Tensors\n",
    "'''\n",
    "\n",
    "print(x3.ndim) # Returns the dimension of the array\n",
    "print(x3.shape) # Returns the dimensions\n",
    "print(x3.size) # Returns the number of elements (Multiply the elements of shape)\n",
    "print(x3.dtype) # int64\n",
    "print(x3.itemsize) # Returns the size of each element\n",
    "print(x3.itemsize * x3.size) # Returns the size of the array\n",
    "print(x3.nbytes) # Same as above\n"
   ]
  },
  {
   "cell_type": "markdown",
   "id": "f584ff0a",
   "metadata": {},
   "source": [
    "### Slicing Operations"
   ]
  },
  {
   "cell_type": "code",
   "execution_count": 32,
   "id": "8cb660fa",
   "metadata": {},
   "outputs": [],
   "source": [
    "a = np.array([[1, 2, 3, 4], [5, 6, 7, 8], [9, 10, 11, 12]])\n",
    "# Sliced result is actually a pointer to the original array. Modifying the slice will modify the original array\n",
    "\n",
    "# Slices the first two rows and columns one and two. Returns subdimension (2, 2)\n",
    "b = a[:2, 1:3]\n",
    "print(a[0, 1]) # 2\n",
    "\n",
    "b[0, 0] = 77 # Will modify a[0, 1]\n",
    "\n",
    "b2 = a[:2, 1:3].copy() # Will create a copy so no modifications will reflect\n",
    "# np.copy(a[:2, 1:3])\n"
   ]
  },
  {
   "cell_type": "markdown",
   "id": "c24af8a1",
   "metadata": {},
   "source": [
    "### Array Mathematics"
   ]
  },
  {
   "cell_type": "code",
   "execution_count": 3,
   "id": "3215ec23",
   "metadata": {},
   "outputs": [
    {
     "name": "stdout",
     "output_type": "stream",
     "text": [
      "[[ 6.  8.]\n",
      " [10. 12.]]\n",
      "[[ 6.  8.]\n",
      " [10. 12.]]\n",
      "[[-4. -4.]\n",
      " [-4. -4.]]\n",
      "[[-4. -4.]\n",
      " [-4. -4.]]\n",
      "[[ 5. 12.]\n",
      " [21. 32.]]\n",
      "[[ 5. 12.]\n",
      " [21. 32.]]\n",
      "[[-4. -4.]\n",
      " [-4. -4.]]\n",
      "[[0.2        0.33333333]\n",
      " [0.42857143 0.5       ]]\n",
      "[[1.         1.41421356]\n",
      " [1.73205081 2.        ]]\n",
      "[[1. 3.]\n",
      " [2. 4.]]\n"
     ]
    },
    {
     "data": {
      "text/plain": [
       "'\\nDoesnt change anything for 1D arrays\\nInstead, do : \\nx1 = x.reshape((1, 3))\\nprint(x1.shape)\\nprint(x1.T)\\n'"
      ]
     },
     "execution_count": 3,
     "metadata": {},
     "output_type": "execute_result"
    }
   ],
   "source": [
    "x = np.array([[1, 2], [3, 4]], dtype = np.float64)\n",
    "y = np.array([[5, 6], [7, 8]], dtype = np.float64)\n",
    "\n",
    "# Elementwise Sum : \n",
    "print(x + y)\n",
    "print(np.add(x, y))\n",
    "\n",
    "# Elementwise Difference\n",
    "print(x - y)\n",
    "print(np.subtract(x, y))\n",
    "\n",
    "# Elementwise Sum\n",
    "print(x * y)\n",
    "print(np.multiply(x, y))\n",
    "\n",
    "# Elementwise Division\n",
    "print(x - y)\n",
    "print(np.divide(x, y))\n",
    "\n",
    "# Elementwise Square root\n",
    "print(np.sqrt(x, y))\n",
    "\n",
    "\n",
    "# Array transpose\n",
    "print(x.T)\n",
    "'''\n",
    "Doesnt change anything for 1D arrays\n",
    "Instead, do : \n",
    "x1 = x.reshape((1, 3))\n",
    "print(x1.shape)\n",
    "print(x1.T)\n",
    "'''"
   ]
  },
  {
   "cell_type": "markdown",
   "id": "261334d1",
   "metadata": {},
   "source": [
    "### Array Broadcasting"
   ]
  },
  {
   "cell_type": "code",
   "execution_count": 4,
   "id": "e16711bf",
   "metadata": {},
   "outputs": [
    {
     "name": "stdout",
     "output_type": "stream",
     "text": [
      "[5 6 7]\n",
      "[[1. 2. 3.]\n",
      " [1. 2. 3.]\n",
      " [1. 2. 3.]]\n",
      "[[0 1 2]\n",
      " [1 2 3]\n",
      " [2 3 4]]\n"
     ]
    }
   ],
   "source": [
    "# Add the vector V to each row of the matrix x and store in y\n",
    "x = np.array([[4, 5, 6], [7, 8, 9]])\n",
    "v = np.array([1, 2, 3])\n",
    "y = x + v # Adds v to each row of x using broadcasting\n",
    "# [1, 2, 3] will be broadcased to a second row and both will be added\n",
    "\n",
    "\n",
    "print(np.arange(3) + 5)\n",
    "print(np.ones((3, 3)) + np.arange(3))\n",
    "print(np.arange(3).reshape((3, 1)) + np.arange(3))"
   ]
  }
 ],
 "metadata": {
  "kernelspec": {
   "display_name": "Python 3 (ipykernel)",
   "language": "python",
   "name": "python3"
  },
  "language_info": {
   "codemirror_mode": {
    "name": "ipython",
    "version": 3
   },
   "file_extension": ".py",
   "mimetype": "text/x-python",
   "name": "python",
   "nbconvert_exporter": "python",
   "pygments_lexer": "ipython3",
   "version": "3.9.7"
  }
 },
 "nbformat": 4,
 "nbformat_minor": 5
}
